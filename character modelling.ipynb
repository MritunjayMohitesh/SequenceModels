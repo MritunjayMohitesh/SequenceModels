{
 "cells": [
  {
   "cell_type": "code",
   "execution_count": 1,
   "metadata": {},
   "outputs": [
    {
     "name": "stderr",
     "output_type": "stream",
     "text": [
      "Using TensorFlow backend.\n"
     ]
    }
   ],
   "source": [
    "import numpy as np\n",
    "import pandas as pd\n",
    "from keras.models import Sequential\n",
    "from keras.layers import Dense,Activation,LSTM,Dropout,TimeDistributed"
   ]
  },
  {
   "cell_type": "code",
   "execution_count": 2,
   "metadata": {},
   "outputs": [],
   "source": [
    "data = open('dinos.txt', 'r').read()\n",
    "data = data.lower()\n",
    "chars = list(set(data))\n",
    "data_size, vocab_size = len(data), len(chars)"
   ]
  },
  {
   "cell_type": "code",
   "execution_count": 3,
   "metadata": {},
   "outputs": [],
   "source": [
    "char_to_ix = { ch:i for i,ch in enumerate(sorted(chars),1) }\n",
    "ix_to_char = { i:ch for i,ch in enumerate(sorted(chars),1) }\n",
    "features = len(chars) + 1"
   ]
  },
  {
   "cell_type": "code",
   "execution_count": 4,
   "metadata": {
    "collapsed": true
   },
   "outputs": [],
   "source": [
    "with open(\"dinos.txt\") as f:\n",
    "    examples = f.readlines()\n",
    "    examples = [x.lower().strip() for x in examples]"
   ]
  },
  {
   "cell_type": "code",
   "execution_count": 5,
   "metadata": {
    "collapsed": true
   },
   "outputs": [],
   "source": [
    "np.random.seed(0)\n",
    "np.random.shuffle(examples)"
   ]
  },
  {
   "cell_type": "code",
   "execution_count": 6,
   "metadata": {},
   "outputs": [],
   "source": [
    "lengths = [len(x) for x in examples]\n",
    "lengths = np.array(lengths)"
   ]
  },
  {
   "cell_type": "code",
   "execution_count": 7,
   "metadata": {
    "collapsed": true
   },
   "outputs": [],
   "source": [
    "X_train = []\n",
    "Y_train = []"
   ]
  },
  {
   "cell_type": "code",
   "execution_count": 8,
   "metadata": {
    "collapsed": true
   },
   "outputs": [],
   "source": [
    "for index in range(len(examples)):\n",
    "    X = [char_to_ix[ch] for ch in examples[index]] \n",
    "    Y = X[1:] + [char_to_ix[\"\\n\"]]\n",
    "    X = np.array(X)\n",
    "    Y = np.array(Y)\n",
    "    X_train.append(X)\n",
    "    Y_train.append(Y)"
   ]
  },
  {
   "cell_type": "code",
   "execution_count": 9,
   "metadata": {
    "collapsed": true
   },
   "outputs": [],
   "source": [
    "samples = len(X_train)\n",
    "features = len(chars)\n",
    "timesteps = lengths.max()\n",
    "X = np.zeros(shape = (samples ,timesteps,features))\n",
    "Y = np.zeros(shape = (samples ,timesteps, features))"
   ]
  },
  {
   "cell_type": "code",
   "execution_count": 10,
   "metadata": {
    "collapsed": true
   },
   "outputs": [],
   "source": [
    "X_train = np.array(X_train)\n",
    "Y_train = np.array(Y_train)"
   ]
  },
  {
   "cell_type": "code",
   "execution_count": 11,
   "metadata": {
    "collapsed": true
   },
   "outputs": [],
   "source": [
    "def converter(X_train,X):\n",
    "    for i in range(0,X_train.shape[0]):\n",
    "        for j in range(0,X_train[i].shape[0]):\n",
    "            num = X_train[i][j]\n",
    "            idx = num - 1\n",
    "            X[i][j][idx] = 1\n",
    "    return X"
   ]
  },
  {
   "cell_type": "code",
   "execution_count": 12,
   "metadata": {
    "collapsed": true
   },
   "outputs": [],
   "source": [
    "X = converter(X_train,X)\n",
    "Y = converter(Y_train,Y)"
   ]
  },
  {
   "cell_type": "code",
   "execution_count": null,
   "metadata": {
    "collapsed": true
   },
   "outputs": [],
   "source": []
  },
  {
   "cell_type": "code",
   "execution_count": 13,
   "metadata": {
    "collapsed": true
   },
   "outputs": [],
   "source": [
    "model = Sequential()\n",
    "model.add(LSTM(128, input_shape=(timesteps,features),return_sequences = True))\n",
    "model.add(TimeDistributed(Dense(units = features,activation = 'softmax')))"
   ]
  },
  {
   "cell_type": "code",
   "execution_count": 14,
   "metadata": {
    "collapsed": true
   },
   "outputs": [],
   "source": [
    "model.compile(loss='categorical_crossentropy', optimizer='rmsprop')"
   ]
  },
  {
   "cell_type": "code",
   "execution_count": 15,
   "metadata": {},
   "outputs": [
    {
     "name": "stdout",
     "output_type": "stream",
     "text": [
      "Epoch 1/20\n",
      "1536/1536 [==============================] - 15s - loss: 1.2653    \n",
      "Epoch 2/20\n",
      "1536/1536 [==============================] - 5s - loss: 1.1593     \n",
      "Epoch 3/20\n",
      "1536/1536 [==============================] - 5s - loss: 1.0779     \n",
      "Epoch 4/20\n",
      "1536/1536 [==============================] - 6s - loss: 0.9909     \n",
      "Epoch 5/20\n",
      "1536/1536 [==============================] - 5s - loss: 0.9337     \n",
      "Epoch 6/20\n",
      "1536/1536 [==============================] - 4s - loss: 0.8965     \n",
      "Epoch 7/20\n",
      "1536/1536 [==============================] - 4s - loss: 0.8662     \n",
      "Epoch 8/20\n",
      "1536/1536 [==============================] - 5s - loss: 0.8422     \n",
      "Epoch 9/20\n",
      "1536/1536 [==============================] - 5s - loss: 0.8234     \n",
      "Epoch 10/20\n",
      "1536/1536 [==============================] - 4s - loss: 0.8066     \n",
      "Epoch 11/20\n",
      "1536/1536 [==============================] - 5s - loss: 0.7930     \n",
      "Epoch 12/20\n",
      "1536/1536 [==============================] - 4s - loss: 0.7810     \n",
      "Epoch 13/20\n",
      "1536/1536 [==============================] - 5s - loss: 0.7706     \n",
      "Epoch 14/20\n",
      "1536/1536 [==============================] - 4s - loss: 0.7604     \n",
      "Epoch 15/20\n",
      "1536/1536 [==============================] - 4s - loss: 0.7517     \n",
      "Epoch 16/20\n",
      "1536/1536 [==============================] - 4s - loss: 0.7428     \n",
      "Epoch 17/20\n",
      "1536/1536 [==============================] - 5s - loss: 0.7353     \n",
      "Epoch 18/20\n",
      "1536/1536 [==============================] - 5s - loss: 0.7281     \n",
      "Epoch 19/20\n",
      "1536/1536 [==============================] - 5s - loss: 0.7207     \n",
      "Epoch 20/20\n",
      "1536/1536 [==============================] - 4s - loss: 0.7144     \n"
     ]
    },
    {
     "data": {
      "text/plain": [
       "<keras.callbacks.History at 0x2e0eec5ce48>"
      ]
     },
     "execution_count": 15,
     "metadata": {},
     "output_type": "execute_result"
    }
   ],
   "source": [
    "model.fit(X,Y,batch_size=32,epochs = 20)"
   ]
  },
  {
   "cell_type": "code",
   "execution_count": null,
   "metadata": {
    "collapsed": true
   },
   "outputs": [],
   "source": []
  },
  {
   "cell_type": "code",
   "execution_count": 16,
   "metadata": {
    "collapsed": true
   },
   "outputs": [],
   "source": [
    "def sample(preds, temperature=1.0):\n",
    "    # helper function to sample an index from a probability array\n",
    "    preds = np.log(preds) / temperature\n",
    "    exp_preds = np.exp(preds)\n",
    "    preds = exp_preds / np.sum(exp_preds)\n",
    "    probas = np.random.multinomial(1, preds, 1)\n",
    "    return np.argmax(probas)"
   ]
  },
  {
   "cell_type": "code",
   "execution_count": 17,
   "metadata": {
    "collapsed": true
   },
   "outputs": [],
   "source": [
    "inp = X[25:80]\n",
    "inp = inp.reshape((55,timesteps,features))"
   ]
  },
  {
   "cell_type": "code",
   "execution_count": null,
   "metadata": {},
   "outputs": [],
   "source": []
  },
  {
   "cell_type": "code",
   "execution_count": 19,
   "metadata": {},
   "outputs": [],
   "source": [
    "pred = model.predict(inp)"
   ]
  },
  {
   "cell_type": "code",
   "execution_count": 246,
   "metadata": {
    "collapsed": true
   },
   "outputs": [],
   "source": [
    "\n"
   ]
  },
  {
   "cell_type": "code",
   "execution_count": 21,
   "metadata": {},
   "outputs": [],
   "source": [
    "preds = model.predict(inp)\n",
    "#preds = preds.reshape((preds.shape[1],preds.shape[2]))\n",
    "name_list = []\n",
    "for j in range(preds.shape[0]):\n",
    "    name = ''\n",
    "    for i in range(preds[j].shape[0]):\n",
    "        val = sample(preds[j][i])\n",
    "        ch = ix_to_char[val+1]\n",
    "        name = name+ch\n",
    "        if(ch=='\\n'):\n",
    "            name_list.append(name)\n",
    "            break"
   ]
  },
  {
   "cell_type": "code",
   "execution_count": 22,
   "metadata": {},
   "outputs": [
    {
     "data": {
      "text/plain": [
       "['etnmlrsaurus\\n',\n",
       " 'hivocaoolrsaeryx\\n',\n",
       " 'esyeiioaauras\\n',\n",
       " 'icnton\\n',\n",
       " 'ngllesaurus\\n',\n",
       " 'yakiaalosnitraurus\\n',\n",
       " 'eunorusaurus\\n',\n",
       " 'ajaheeashus\\n',\n",
       " 'rtidaurss\\n',\n",
       " 'orarndurus\\n',\n",
       " 'dgaoyaest\\n',\n",
       " 'aaresaurus\\n',\n",
       " 'uutaadreiisaurus\\n',\n",
       " 'ktiiaiuss\\n',\n",
       " 'lerasaoanaurus\\n',\n",
       " 'nazsnia\\n',\n",
       " 'asosouauopa\\n',\n",
       " 'snvoaonsptiryxsudaaouomms\\n',\n",
       " 'nnaomcaurus\\n',\n",
       " 'lnoopgasaurus\\n',\n",
       " 'fsiren\\n',\n",
       " 'xgiagnoostrtlrr\\n',\n",
       " 'sopaurus\\n',\n",
       " 'rdrllppeus\\n',\n",
       " 'hdoscsaunan\\n',\n",
       " 'glyraamhor\\n',\n",
       " 'ilnthiaaurus\\n',\n",
       " 'ansaudaurus\\n',\n",
       " 'baiolpantat\\n',\n",
       " 'jentrramd\\n',\n",
       " 'sreanssresoms\\n',\n",
       " 'umoronaaeau\\n',\n",
       " 'aateshsaeaualsu\\n',\n",
       " 'hacarins\\n',\n",
       " 'unirturus\\n',\n",
       " 'iaslykaaaoea\\n',\n",
       " 'bsbocuurus\\n',\n",
       " 'hraabopponaiso\\n',\n",
       " 'naltsona\\n',\n",
       " 'jdyosds\\n',\n",
       " 'acylooesator\\n',\n",
       " 'saxosopacrs\\n',\n",
       " 'rlprlnti\\n',\n",
       " 'iorceiaoda\\n',\n",
       " 'udauotonases\\n',\n",
       " 'ioaooson\\n',\n",
       " 'isdanon\\n',\n",
       " 'annholunrus\\n',\n",
       " 'litrcsopatops\\n',\n",
       " 'appceainus\\n',\n",
       " 'ajoivoopamis\\n',\n",
       " 'eaonaurus\\n',\n",
       " 'uuttousaer\\n',\n",
       " 'xnontis\\n']"
      ]
     },
     "execution_count": 22,
     "metadata": {},
     "output_type": "execute_result"
    }
   ],
   "source": [
    "name_list"
   ]
  },
  {
   "cell_type": "code",
   "execution_count": null,
   "metadata": {
    "collapsed": true
   },
   "outputs": [],
   "source": []
  },
  {
   "cell_type": "code",
   "execution_count": null,
   "metadata": {
    "collapsed": true
   },
   "outputs": [],
   "source": []
  }
 ],
 "metadata": {
  "kernelspec": {
   "display_name": "Python 3",
   "language": "python",
   "name": "python3"
  },
  "language_info": {
   "codemirror_mode": {
    "name": "ipython",
    "version": 3
   },
   "file_extension": ".py",
   "mimetype": "text/x-python",
   "name": "python",
   "nbconvert_exporter": "python",
   "pygments_lexer": "ipython3",
   "version": "3.5.4"
  }
 },
 "nbformat": 4,
 "nbformat_minor": 2
}
